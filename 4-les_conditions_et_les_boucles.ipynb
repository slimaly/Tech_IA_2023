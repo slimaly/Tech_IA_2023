{
 "cells": [
  {
   "cell_type": "markdown",
   "metadata": {},
   "source": [
    "# Les conditions"
   ]
  },
  {
   "cell_type": "code",
   "execution_count": 1,
   "metadata": {},
   "outputs": [
    {
     "ename": "IndentationError",
     "evalue": "expected an indented block (1461034159.py, line 4)",
     "output_type": "error",
     "traceback": [
      "\u001b[0;36m  File \u001b[0;32m\"/var/folders/py/4rt338cj1ks4z3332m7l3f880000gp/T/ipykernel_4152/1461034159.py\"\u001b[0;36m, line \u001b[0;32m4\u001b[0m\n\u001b[0;31m    else:\u001b[0m\n\u001b[0m    ^\u001b[0m\n\u001b[0;31mIndentationError\u001b[0m\u001b[0;31m:\u001b[0m expected an indented block\n"
     ]
    }
   ],
   "source": [
    "\"\"\" Structure générale d'une condition if \"\"\"\n",
    "if mon_booleen:\n",
    "   # exécuter le code quand mon_booleen est vrai\n",
    "else:\n",
    "   # exécuter le code quand mon_booleen est faux"
   ]
  },
  {
   "cell_type": "markdown",
   "metadata": {},
   "source": [
    "Rappel: Les booléens peuvent être combinés avec des opérateurs logiques (and, or ..) ou issus de comparaisons (<, >, == ...)"
   ]
  },
  {
   "cell_type": "code",
   "execution_count": null,
   "metadata": {},
   "outputs": [
    {
     "name": "stdout",
     "output_type": "stream",
     "text": [
      "on reste à la maison !\n"
     ]
    }
   ],
   "source": [
    "\"\"\" Exemple \"\"\"\n",
    "\n",
    "ensoleille = False\n",
    "\n",
    "if ensoleille:\n",
    "   print(\"on va à la plage !\")\n",
    "else:\n",
    "   print(\"on reste à la maison !\")"
   ]
  },
  {
   "cell_type": "code",
   "execution_count": null,
   "metadata": {},
   "outputs": [
    {
     "name": "stdout",
     "output_type": "stream",
     "text": [
      "on fait un bonhomme de neige\n",
      "8\n",
      "nothing\n"
     ]
    }
   ],
   "source": [
    "\"\"\" Il est également possible d'ajouter d'autres conditions\"\"\"\n",
    "\n",
    "ensoleille = False\n",
    "neige = True\n",
    "\n",
    "if ensoleille:\n",
    "   print(\"on va à la plage !\")\n",
    "elif neige:\n",
    "   print(\"on fait un bonhomme de neige\")\n",
    "else:\n",
    "   print(\"on reste à la maison !\")\n",
    "\n",
    "a = 8\n",
    "\n",
    "if a > 2:\n",
    "   print(a)\n",
    "if a < 7:\n",
    "   print(a)\n",
    "else:\n",
    "   print(\"nothing\")\n",
    "\n"
   ]
  },
  {
   "cell_type": "markdown",
   "metadata": {},
   "source": [
    "**`Exercice 1`**: quelle est la valeur de x?"
   ]
  },
  {
   "cell_type": "code",
   "execution_count": 1,
   "metadata": {},
   "outputs": [
    {
     "name": "stdout",
     "output_type": "stream",
     "text": [
      "8\n"
     ]
    }
   ],
   "source": [
    "a = True\n",
    "b = False\n",
    "c = True\n",
    "\n",
    "if a and b:\n",
    "    x = 5\n",
    "elif not c:\n",
    "    x = 4\n",
    "elif a:\n",
    "    x = 8\n",
    "else:\n",
    "    x = 7\n",
    "\n",
    "print(x)"
   ]
  },
  {
   "cell_type": "markdown",
   "metadata": {},
   "source": [
    "**`Exercice 2`**: devinez ce qui va être affiché"
   ]
  },
  {
   "cell_type": "code",
   "execution_count": 2,
   "metadata": {},
   "outputs": [
    {
     "name": "stdout",
     "output_type": "stream",
     "text": [
      "c'est faux\n"
     ]
    }
   ],
   "source": [
    "a = 3\n",
    "b = 7\n",
    "c = 5\n",
    "\n",
    "if (a < b or b != c) and c >= b:\n",
    "    print(\"c'est vrai\")\n",
    "else:\n",
    "    print(\"c'est faux\")"
   ]
  },
  {
   "cell_type": "markdown",
   "metadata": {},
   "source": [
    "# Les boucles"
   ]
  },
  {
   "cell_type": "markdown",
   "metadata": {},
   "source": [
    "## La boucle for"
   ]
  },
  {
   "cell_type": "code",
   "execution_count": null,
   "metadata": {},
   "outputs": [
    {
     "name": "stdout",
     "output_type": "stream",
     "text": [
      "Pascal  présent\n",
      "Azel  présent\n",
      "Tony  présent\n",
      "Vladimir  présent\n",
      "Sabrina  présent\n"
     ]
    }
   ],
   "source": [
    "#Le principal interet de la boucle for est de parcourir des listes\n",
    "liste_apprenants = [\"Pascal\", \"Azel\", \"Tony\", \"Vladimir\", \"Sabrina\"]\n",
    "\n",
    "for element in liste_apprenants:\n",
    "    print(element, \" présent\")"
   ]
  },
  {
   "cell_type": "markdown",
   "metadata": {},
   "source": [
    "On peut également s'en servir avec la fonction range, cela permet de parcourir une liste d'entiers"
   ]
  },
  {
   "cell_type": "code",
   "execution_count": null,
   "metadata": {},
   "outputs": [
    {
     "name": "stdout",
     "output_type": "stream",
     "text": [
      "<class 'range'>\n",
      "range(0, 5)\n"
     ]
    }
   ],
   "source": [
    "print(type(range(5)))\n",
    "print(range(5))"
   ]
  },
  {
   "cell_type": "code",
   "execution_count": 8,
   "metadata": {},
   "outputs": [
    {
     "name": "stdout",
     "output_type": "stream",
     "text": [
      "0\n",
      "1\n",
      "2\n",
      "3\n",
      "4\n",
      "1\n",
      "3\n",
      "1\n",
      "1\n",
      "2\n",
      "3\n",
      "4\n",
      "1\n",
      "3\n",
      "2\n",
      "1\n",
      "2\n",
      "3\n",
      "4\n",
      "1\n",
      "3\n",
      "3\n",
      "1\n",
      "2\n",
      "3\n",
      "4\n",
      "1\n",
      "3\n",
      "4\n",
      "1\n",
      "2\n",
      "3\n",
      "4\n",
      "1\n",
      "3\n"
     ]
    }
   ],
   "source": [
    "for i in range(5): # le dernier nombre dans la range est exclu\n",
    "    print(i)\n",
    "    #print (i +10)\n",
    "\n",
    "    for i in range(1,5): #liste de 1 à 4 (dernier chiffre exclu)\n",
    "        print(i)\n",
    "    for i in range (1,5,2): #liste de 1 à 4 (dernier chiffre exclu), en allant de 2 en 2\n",
    "        print(i)"
   ]
  },
  {
   "cell_type": "code",
   "execution_count": null,
   "metadata": {},
   "outputs": [
    {
     "name": "stdout",
     "output_type": "stream",
     "text": [
      "j = 2\n",
      "j = 4\n",
      "j = 6\n",
      "j = 8\n",
      "j = 10\n",
      "k = 11\n",
      "k = 8\n"
     ]
    }
   ],
   "source": [
    "# la fonction range peut prendre plusieurs arguments:\n",
    "premier_element = 2\n",
    "dernier_element_plus_1 = 11\n",
    "pas = 2 # on compte tous les combien\n",
    "\n",
    "for j in range(premier_element,dernier_element_plus_1,pas):\n",
    "    print(f\"j = {j}\")\n",
    "\n",
    "premier_element = 11\n",
    "dernier_element_plus_1 = 7\n",
    "pas = -3 # on compte tous les combien\n",
    "\n",
    "for k in range(premier_element,dernier_element_plus_1,pas):\n",
    "    print(f\"k = {k}\")   "
   ]
  },
  {
   "cell_type": "markdown",
   "metadata": {},
   "source": [
    "**`Exercice 2`**: écrivez un code qui utilise range et la liste \"ma liste\" et qui à la sortie suivante:  \n",
    "canari 1  \n",
    "avion 2  \n",
    "papier 3  \n",
    "ciseaux 4  \n",
    "toiture 5  "
   ]
  },
  {
   "cell_type": "code",
   "execution_count": 21,
   "metadata": {},
   "outputs": [
    {
     "name": "stdout",
     "output_type": "stream",
     "text": [
      "canari 1\n",
      "avion 2\n",
      "papier 3\n",
      "ciseaux 4\n",
      "toiture 5\n",
      "canari 1\n",
      "avion 2\n",
      "papier 3\n",
      "ciseaux 4\n",
      "toiture 5\n"
     ]
    }
   ],
   "source": [
    "ma_liste = [\"canari\", \"avion\", \"papier\", \"ciseaux\", \"toiture\"]\n",
    "\n",
    "for i in range (5):\n",
    "    print(ma_liste[i], i+1)\n",
    "\n",
    "    #ou\n",
    "\n",
    "for element in ma_liste:\n",
    "    print(element,ma_liste.index(element)+1)\n",
    "\n",
    "\n",
    "\n",
    "\n",
    "\n",
    "   "
   ]
  },
  {
   "cell_type": "markdown",
   "metadata": {},
   "source": [
    "## Boucle While"
   ]
  },
  {
   "cell_type": "code",
   "execution_count": null,
   "metadata": {},
   "outputs": [
    {
     "name": "stdout",
     "output_type": "stream",
     "text": [
      "la condition est encore vraie car i vaut 0\n",
      "la condition est encore vraie car i vaut 1\n",
      "la condition est encore vraie car i vaut 2\n",
      "la condition est encore vraie car i vaut 3\n",
      "la condition est encore vraie car i vaut 4\n",
      "la condition est encore vraie car i vaut 5\n",
      "la condition est encore vraie car i vaut 6\n",
      "la condition est encore vraie car i vaut 7\n",
      "la condition est encore vraie car i vaut 8\n",
      "la condition est encore vraie car i vaut 9\n"
     ]
    }
   ],
   "source": [
    "# La structure générale de la boucle while est la suivante:\n",
    "\n",
    "i = 0\n",
    "condition = 10 > i\n",
    "\n",
    "while condition:\n",
    "    print(f\"la condition est encore vraie car i vaut {i}\")\n",
    "    i += 1 # on appelle cela l'incrementation\n",
    "    condition = 10 > i\n"
   ]
  },
  {
   "cell_type": "code",
   "execution_count": null,
   "metadata": {},
   "outputs": [],
   "source": [
    "# l'incrémentation permet de ne pas créer de boucle infinie\n",
    "i=11\n",
    "condition = 12 > i\n",
    "while condition:\n",
    "    print(\"ceci est une boucle infinie\")\n",
    "    "
   ]
  },
  {
   "cell_type": "markdown",
   "metadata": {},
   "source": [
    "**`Exercice 1`**: \n",
    "- Utilisez une boucle for et la fonction \"range\" pour calculer la somme des 100 premier entier naturel\n",
    "- Utilisez la boucle while pour calculer le produit des 100 premiers entier naturel"
   ]
  },
  {
   "cell_type": "code",
   "execution_count": 66,
   "metadata": {},
   "outputs": [
    {
     "name": "stdout",
     "output_type": "stream",
     "text": [
      "0\n",
      "1\n",
      "3\n",
      "6\n",
      "10\n",
      "15\n",
      "21\n",
      "28\n",
      "36\n",
      "45\n",
      "55\n",
      "66\n",
      "78\n",
      "91\n",
      "105\n",
      "120\n",
      "136\n",
      "153\n",
      "171\n",
      "190\n",
      "210\n",
      "231\n",
      "253\n",
      "276\n",
      "300\n",
      "325\n",
      "351\n",
      "378\n",
      "406\n",
      "435\n",
      "465\n",
      "496\n",
      "528\n",
      "561\n",
      "595\n",
      "630\n",
      "666\n",
      "703\n",
      "741\n",
      "780\n",
      "820\n",
      "861\n",
      "903\n",
      "946\n",
      "990\n",
      "1035\n",
      "1081\n",
      "1128\n",
      "1176\n",
      "1225\n",
      "1275\n",
      "1326\n",
      "1378\n",
      "1431\n",
      "1485\n",
      "1540\n",
      "1596\n",
      "1653\n",
      "1711\n",
      "1770\n",
      "1830\n",
      "1891\n",
      "1953\n",
      "2016\n",
      "2080\n",
      "2145\n",
      "2211\n",
      "2278\n",
      "2346\n",
      "2415\n",
      "2485\n",
      "2556\n",
      "2628\n",
      "2701\n",
      "2775\n",
      "2850\n",
      "2926\n",
      "3003\n",
      "3081\n",
      "3160\n",
      "3240\n",
      "3321\n",
      "3403\n",
      "3486\n",
      "3570\n",
      "3655\n",
      "3741\n",
      "3828\n",
      "3916\n",
      "4005\n",
      "4095\n",
      "4186\n",
      "4278\n",
      "4371\n",
      "4465\n",
      "4560\n",
      "4656\n",
      "4753\n",
      "4851\n",
      "4950\n"
     ]
    }
   ],
   "source": [
    "# vous aurez surement besoin d'un counter\n",
    "somme = 0\n",
    "#counter = + i\n",
    "for i in range (100):\n",
    "    somme = somme +i \n",
    "    print(somme)\n",
    "\n",
    "\n",
    "\n",
    "\n",
    "\n",
    "\n",
    "\n",
    "\n"
   ]
  },
  {
   "cell_type": "code",
   "execution_count": 1,
   "metadata": {},
   "outputs": [
    {
     "name": "stdout",
     "output_type": "stream",
     "text": [
      "93326215443944152681699238856266700490715968264381621468592963895217599993229915608941463976156518286253697920827223758251185210916864000000000000000000000000\n"
     ]
    }
   ],
   "source": [
    "\n",
    "i = 1\n",
    "product = 1\n",
    "\n",
    "while i <= 100 :\n",
    "     product = product * i\n",
    "     i += 1\n",
    "    \n",
    "\n",
    "\n",
    "print(product)"
   ]
  },
  {
   "cell_type": "markdown",
   "metadata": {},
   "source": [
    "**`Exercice 2`**: \n",
    "-  Dans un fichier script, A l'aide de la fonction while et la fonction input (help(input)) écrivez cette blague\n",
    "- \"Si repete et pepete  sont dans un bateau, pepete tombe à l'eau, qu'est ce qui reste?\"\n",
    "- si la personne répond \"repète\", le programme pose la meme question : \"Si repete et pepete sont dans un bateau, pepete tombe à l'eau, qu'est ce qui reste?\"\n",
    "- si la personne répond autre chose le programme pose comme question: \"Mais non tu comprends pas, si repete et pepete  sont dans un bateau, pepete tombe à l'eau, qu'est ce qui reste \"\n",
    "- si la personne répond \"tu es lourd\" enfin le programme s'arrete"
   ]
  },
  {
   "cell_type": "markdown",
   "metadata": {},
   "source": [
    "**`Exercice 3`**: \n",
    "- Reprenez votre programme en utilisant l'instruction `break`"
   ]
  },
  {
   "cell_type": "markdown",
   "metadata": {},
   "source": [
    "**`Exercice 4`**: Plus classique et beaucoup moins drole \n",
    "- écrivez un programme script qui demande deux nombres puis renvoie leur somme si les nombres sont valides sinon il renvoie une erreur et demande à nouveaux deux nombres valides."
   ]
  },
  {
   "cell_type": "markdown",
   "metadata": {},
   "source": [
    "**`Mini-projet`**: liste de courses\n",
    "Créez un programme script qui propose ce menu (et permet bien de le réaliser)\n",
    "\n",
    "Choisissez par les options suivantes:\n",
    "- 1: ajoutez un élément à la liste\n",
    "- 2: retirer une élément de la liste\n",
    "- 3: afficher la liste\n",
    "- 4: vider la liste\n",
    "- 5: Quitter  \n",
    "**Quel est votre choix?:**"
   ]
  }
 ],
 "metadata": {
  "interpreter": {
   "hash": "4822798685b95d90cac6b9eac85a216cd3011e561666c6311e8088bbadca8e0f"
  },
  "kernelspec": {
   "display_name": "Python 3.8.6 64-bit ('3.8.6': pyenv)",
   "name": "python3"
  },
  "language_info": {
   "codemirror_mode": {
    "name": "ipython",
    "version": 3
   },
   "file_extension": ".py",
   "mimetype": "text/x-python",
   "name": "python",
   "nbconvert_exporter": "python",
   "pygments_lexer": "ipython3",
   "version": "3.12.1"
  },
  "orig_nbformat": 4
 },
 "nbformat": 4,
 "nbformat_minor": 2
}
