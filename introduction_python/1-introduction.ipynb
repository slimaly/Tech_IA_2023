{
 "cells": [
  {
   "cell_type": "markdown",
   "metadata": {},
   "source": [
    "# Introduction à Python"
   ]
  },
  {
   "cell_type": "markdown",
   "metadata": {},
   "source": [
    "## Créer et lancer des programmes"
   ]
  },
  {
   "cell_type": "markdown",
   "metadata": {},
   "source": [
    "Il existe de deux types de fichier pour créer des programmes en python:\n",
    "- **Les fichiers scripts .py** : Ils sont légers et on peut facilement importer le contenu d'un script dans un autre script, on s'en servirra quand on développera des programes complexes qu'on voudra diviser en plusieurs fichiers comme par exemple des applications web\n",
    "- **Les notebooks .ipynb** (comme ce fichier): ils permettent d'afficher directement le code utilisé, d'ajouter des commentaires complexes (titres, images, liens...). Ils sont très utilisés quand on veut explorer une base de données ou quand on veut expliquer quelque chose en intégrant du code. "
   ]
  },
  {
   "cell_type": "markdown",
   "metadata": {},
   "source": [
    "### Les fichiers scripts"
   ]
  },
  {
   "cell_type": "markdown",
   "metadata": {},
   "source": [
    "Il suffit de créer un nouveau fichier, de lui donner un nom et d'ajouter .py à la fin (appelons le hello.py)\n",
    "\n",
    "On va pouvoir écrire notre premier programme à l'intérieur. "
   ]
  },
  {
   "cell_type": "code",
   "execution_count": 1,
   "metadata": {},
   "outputs": [
    {
     "name": "stdout",
     "output_type": "stream",
     "text": [
      "Hello World\n",
      "This is my first python program\n"
     ]
    }
   ],
   "source": [
    "print(\"Hello World\")\n",
    "\n",
    "print(\"This is my first python program\")"
   ]
  },
  {
   "cell_type": "code",
   "execution_count": 2,
   "metadata": {},
   "outputs": [
    {
     "name": "stdout",
     "output_type": "stream",
     "text": [
      "Goodbye\n"
     ]
    }
   ],
   "source": [
    "print (\"Goodbye\")"
   ]
  },
  {
   "cell_type": "markdown",
   "metadata": {},
   "source": [
    "On décomposera plus tard ce code, on va se contenter de le lancer en appuyant sur la flèche.\n",
    "Cela lance un terminal (ou une console) où on voit apparaitre ce qu'on voulait voir apparaitre.\n",
    "\n",
    "On a également souvent l'habitude de lancer le code directement depuis le terminal à l'aide de la commande suivante:"
   ]
  },
  {
   "cell_type": "code",
   "execution_count": 3,
   "metadata": {},
   "outputs": [
    {
     "data": {
      "text/plain": [
       "'python3 hello.py'"
      ]
     },
     "execution_count": 3,
     "metadata": {},
     "output_type": "execute_result"
    }
   ],
   "source": [
    "\"python3 hello.py\""
   ]
  },
  {
   "cell_type": "markdown",
   "metadata": {},
   "source": [
    "### Les notebooks"
   ]
  },
  {
   "cell_type": "markdown",
   "metadata": {},
   "source": [
    "#### Lancer un programme"
   ]
  },
  {
   "cell_type": "markdown",
   "metadata": {},
   "source": [
    "Faisons la même chose avec un notebook.\n",
    "\n",
    "Créons un fichier appelé hello.ipynb\n",
    "\n",
    "Un notebook est divisé en cellules. Les cellules peuvent être lancées individuellement mais partagent le même environnement (on verra plus tard quand on parlera des variables par exemple que si on déclare une variable dans une cellule, on peut y accéder dans les autres cellules)\n",
    "\n",
    "Dans la première cellule on peut écrire print(\"Hello World\")\n",
    "\n",
    "On va écrire le même programme et le lancer à l'aide de la flèche qui se trouve en haut à gauche de la cellule (print(Hello Word))"
   ]
  },
  {
   "cell_type": "code",
   "execution_count": null,
   "metadata": {},
   "outputs": [
    {
     "name": "stdout",
     "output_type": "stream",
     "text": [
      "Hello World\n"
     ]
    }
   ],
   "source": [
    "print(\"Hello World\")"
   ]
  },
  {
   "cell_type": "markdown",
   "metadata": {},
   "source": [
    "On peut également la lancer avec le raccourci CTRL + Entrer. Les raccourcis sont très utilisés dans les notebooks ( [voir liste des raccourcis](https://towardsdatascience.com/jypyter-notebook-shortcuts-bf0101a98330))\n",
    "\n",
    "Pour bien les maitriser il faut comprendre la différence entre:\n",
    "- **Le mode \"edit\"** : où on va écrire du code et le lancer (Quand on est sur une cellule, il faut appuyer sur entrer pour passer en mode \"edit\", c'est la même chose que de cliquer dans une cellule)\n",
    "- **Le mode \"action\"** (ou commande): permet de gérer les cellules (Quand on est dans une cellule, appuyer sur echap pour passer en mode action)"
   ]
  },
  {
   "cell_type": "markdown",
   "metadata": {},
   "source": [
    "#### Les raccourcis"
   ]
  },
  {
   "cell_type": "markdown",
   "metadata": {},
   "source": [
    "Les raccourcis les plus utiles à mon gout:\n",
    "- Les deux modes confondus:\n",
    "    - Ctrl + Enter: lance la ou les cellules selectionnées\n",
    "    - Ctrl + S: enregistre \n",
    "    - Ctrl + F: permet de faire un ctrl F \n",
    "- En mode \"Edit\":\n",
    "    - Esc: passe en mode action\n",
    "    - Ctrl + A: sélectionne toute la cellule\n",
    "    - Ctrl + Z: supprime ce qu'on vient de faire\n",
    "    - Ctrl + shift + Z: remet ce qu'on vient de supprimer   \n",
    "- En mode \"Action\":\n",
    "    - Enter: passe en mode Edit\n",
    "    - A: insert une cellule au dessus\n",
    "    - B: insert une cellule en dessous\n",
    "    - X: coupe une cellule (qu'on peut utiliser aussi pour la supprimer sinon deux fois D)\n",
    "    - C: copie une cellule \n",
    "    - V: colle une cellule\n",
    "    - Y: transforme une cellule Markdown en cellule Code \n",
    "    - M: transforme une cellule Code en cellule Markdown\n",
    "\n",
    "Il existe en effet deux types de cellule:\n",
    "- Les cellules Code: pour écrire et lancer du code\n",
    "- Les cellules Markdown: pour écrire des commentaires, des titres, ajouter des liens ou des images\n",
    "\n",
    "`Exercice`: \n",
    "- Créer une cellule en dessous\n",
    "- Ecrivez print(\"This is my first python program\")\n",
    "- Transformer cette cellule en Markdown puis de nouveau en code puis exécutez la (lancez la)\n",
    "- Créer une cellule Markdown puis ajouter le commentaire \"Dans un notebook, les cellules se lancent indépendamment "
   ]
  },
  {
   "cell_type": "code",
   "execution_count": 3,
   "metadata": {},
   "outputs": [
    {
     "name": "stdout",
     "output_type": "stream",
     "text": [
      "This is my first python program\n"
     ]
    }
   ],
   "source": [
    "print (\"This is my first python program\")"
   ]
  },
  {
   "cell_type": "markdown",
   "metadata": {},
   "source": [
    "Dans un notebook, les cellules se lancent indépendamment"
   ]
  },
  {
   "cell_type": "markdown",
   "metadata": {},
   "source": [
    "#### Les markdows en détails"
   ]
  },
  {
   "cell_type": "markdown",
   "metadata": {},
   "source": [
    "On peut créer différentes choses:\n",
    "1. des puces\n",
    "2. par exemple\n",
    "    - et des sous-puces naturellement\n",
    "\n",
    "Mettre des choses en `évidence` ou en **gras**, voire *en italique* \n",
    "\n",
    "Créer des liens: [le lien](https://en.wikipedia.org/wiki/Python_(programming_language))\n",
    "\n",
    "<font color=\"red\"> Changer de couleur en s'inspirant de HTML </font>\n"
   ]
  },
  {
   "cell_type": "markdown",
   "metadata": {},
   "source": [
    "Et insérer des images\n",
    "\n",
    "![image](https://interactive-examples.mdn.mozilla.net/media/cc0-images/grapefruit-slice-332-332.jpg)"
   ]
  },
  {
   "cell_type": "markdown",
   "metadata": {},
   "source": [
    "## Découvrir les commentaires"
   ]
  },
  {
   "cell_type": "markdown",
   "metadata": {},
   "source": [
    "Nous avons vu que les markdowns permettaient de créer des commentaires, cependant ils ne sont pas accessibles dans les fichiers scripts et parfois on veut commenter différemment."
   ]
  },
  {
   "cell_type": "code",
   "execution_count": 1,
   "metadata": {},
   "outputs": [
    {
     "data": {
      "text/plain": [
       "' Commentaire \\nmulti ligne'"
      ]
     },
     "execution_count": 1,
     "metadata": {},
     "output_type": "execute_result"
    }
   ],
   "source": [
    "# commentaire\n",
    "# ligne\n",
    "# à ligne\n",
    "\n",
    "\n",
    "\n",
    "\n"
   ]
  },
  {
   "cell_type": "markdown",
   "metadata": {},
   "source": [
    "Enfin, on utilise souvent un raccourci qui permet de commenter ligne à ligne plusieurs lignes en même temps:  \n",
    "Ctrl + SHIFT + / (sur les lignes selectionnées)"
   ]
  },
  {
   "cell_type": "markdown",
   "metadata": {},
   "source": [
    "**`Exercice`**: \n",
    "- copier coller les règles de la pep 8 dans votre fichier script en tant que commentaire multiligne et ligne à ligne (essayez les raccourcis et relancer le script)\n",
    "- copier coller les règles de la pep 8 dans une cellule code, faite le même exercice que précédemment puis copier coller dans un cellule markdown et faire une mise en page correcte"
   ]
  },
  {
   "cell_type": "code",
   "execution_count": null,
   "metadata": {},
   "outputs": [],
   "source": [
    "# Python core philosphy\n",
    "# Its core philosophy is summarized in the document The Zen of Python (PEP 20), which includes aphorisms such as:[72]\n",
    "# Beautiful is better than ugly.\n",
    "# Explicit is better than implicit.\n",
    "# Simple is better than complex.\n",
    "# Complex is better than complicated.\n",
    "# Readability counts.\n"
   ]
  },
  {
   "cell_type": "markdown",
   "metadata": {},
   "source": [
    "## Python core philosphy\n",
    "Its core philosophy is summarized in the document [The Zen of Python](https://fr.wikipedia.org/wiki/Python_(langage)) (PEP 20), which includes aphorisms such as:[72]\n",
    "- **Beautiful** is better than **ugly**.\n",
    "- **Explicit** is better than **implicit**.\n",
    "- **Simple** is better than **complex**.\n",
    "- **Complex** is better than **complicated**.\n",
    "- **Readability** counts.\n",
    "\n"
   ]
  },
  {
   "cell_type": "markdown",
   "metadata": {},
   "source": [
    "<u> Règles Pep8: </u>\n",
    "\n",
    "Pep 8 sur les commentaires.\n",
    "- Ecrivez des phrases complètes, ponctuées et compréhensibles.\n",
    "- Le commentaire doit être cohérent avec le code.\n",
    "- Il doit suivre la même indentation que le code qu'il commente.\n",
    "- Evitez d'enfoncer des portes ouvertes : \n",
    "  - ne décrivez pas le code, \n",
    "  - expliquez plutôt à quoi il sert.\n",
    "- Il doit être en anglais."
   ]
  },
  {
   "cell_type": "code",
   "execution_count": null,
   "metadata": {},
   "outputs": [],
   "source": [
    "#qskldjqslkdqskl\n",
    "if condition:\n",
    "    Action\n",
    "    #qsd,qlmsd,qslm\n"
   ]
  }
 ],
 "metadata": {
  "kernelspec": {
   "display_name": "Python 3.9.12 ('env': venv)",
   "language": "python",
   "name": "python3"
  },
  "language_info": {
   "codemirror_mode": {
    "name": "ipython",
    "version": 3
   },
   "file_extension": ".py",
   "mimetype": "text/x-python",
   "name": "python",
   "nbconvert_exporter": "python",
   "pygments_lexer": "ipython3",
   "version": "3.12.1"
  },
  "orig_nbformat": 4,
  "vscode": {
   "interpreter": {
    "hash": "0607a848ffd73ecc9cc21824b435c3b7f19a6ddc6b88730c443268397d59d817"
   }
  }
 },
 "nbformat": 4,
 "nbformat_minor": 2
}
