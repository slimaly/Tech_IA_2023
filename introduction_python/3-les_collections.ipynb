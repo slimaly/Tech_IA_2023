{
 "cells": [
  {
   "cell_type": "markdown",
   "metadata": {},
   "source": [
    "# Les listes "
   ]
  },
  {
   "cell_type": "markdown",
   "metadata": {},
   "source": [
    "## définition et déclaration"
   ]
  },
  {
   "cell_type": "markdown",
   "metadata": {},
   "source": [
    "Une liste est une collection d'objets:\n",
    "- dont l'ordre compte, elle est ordonnée (contrairement aux dictionnaires et aux sets) \n",
    "- dont les éléments peuvent être modifiés (contrairement aux tuples et aux sets)\n",
    "- dont un élément peut être répétés plusieurs fois (contrairement aux sets)"
   ]
  },
  {
   "cell_type": "code",
   "execution_count": 2,
   "metadata": {},
   "outputs": [],
   "source": [
    "# Créer des listes contenants des éléments:\n",
    "liste_de_nombres = [1, 2, 3, 5, 7, 11, 13, 17,17]\n",
    "liste_de_strings = [\"a\", \"b\", \"abc\"]\n",
    "liste_foutoire = [7, 4.2, \"un truc\", True, [\"une\",\"autre\",\"liste\"]]\n",
    "\n",
    "# Créer des listes vides: \n",
    "liste_vide = []\n",
    "liste_vide = list()"
   ]
  },
  {
   "cell_type": "markdown",
   "metadata": {},
   "source": [
    "## On accède aux éléments d'une liste par leur indice"
   ]
  },
  {
   "cell_type": "code",
   "execution_count": 17,
   "metadata": {},
   "outputs": [
    {
     "name": "stdout",
     "output_type": "stream",
     "text": [
      "1  est le 1er élément\n",
      "7  est le 5ème élément\n",
      "13  est le dernier élément\n"
     ]
    },
    {
     "data": {
      "text/plain": [
       "'autre'"
      ]
     },
     "execution_count": 17,
     "metadata": {},
     "output_type": "execute_result"
    }
   ],
   "source": [
    "# On accède aux éléments d'une liste ainsi:\n",
    "# soit en partant du début\n",
    "#    le premier élément se trouve à l'indice 0\n",
    "print(liste_de_nombres[0], \" est le 1er élément\")\n",
    "print(liste_de_nombres[4], \" est le 5ème élément\") \n",
    "\n",
    "# soit par la fin\n",
    "print(liste_de_nombres[-3], \" est le dernier élément\")\n",
    "\n",
    "# On peut également selectionner une partie de la liste\n",
    "liste_de_nombres[1:3]\n",
    "\n",
    "# On peut également  selectionner tous les premiers ou tous les derniers éléments\n",
    "# liste_de_nombres[:3]\n",
    "# liste_de_nombres[3:]\n",
    "# liste_de_nombres[3:-2]\n",
    "\n",
    "liste_foutoire[4][1]\n",
    "\n",
    "\n"
   ]
  },
  {
   "cell_type": "code",
   "execution_count": 19,
   "metadata": {},
   "outputs": [
    {
     "data": {
      "text/plain": [
       "5"
      ]
     },
     "execution_count": 19,
     "metadata": {},
     "output_type": "execute_result"
    }
   ],
   "source": [
    "liste_de_nombres[3]"
   ]
  },
  {
   "cell_type": "code",
   "execution_count": 22,
   "metadata": {},
   "outputs": [
    {
     "data": {
      "text/plain": [
       "[1, 2, 3, 7, 11, 13, 17, 17]"
      ]
     },
     "execution_count": 22,
     "metadata": {},
     "output_type": "execute_result"
    }
   ],
   "source": [
    "# On peut ainsi modifier les valeurs d'une liste à un certain indice\n",
    "liste_de_nombres[3] = 8\n",
    "\n",
    "# On peut supprimer un élément en se servant de son indice\n",
    "del liste_de_nombres[3]\n",
    "liste_de_nombres"
   ]
  },
  {
   "cell_type": "code",
   "execution_count": 3,
   "metadata": {},
   "outputs": [
    {
     "data": {
      "text/plain": [
       "[7, 5, 3, 2, 1]"
      ]
     },
     "execution_count": 3,
     "metadata": {},
     "output_type": "execute_result"
    }
   ],
   "source": [
    "#Obtenir une liste en sens inverse\n",
    "liste_de_nombres[4::-1]"
   ]
  },
  {
   "cell_type": "markdown",
   "metadata": {},
   "source": [
    "## fonctions utiles"
   ]
  },
  {
   "cell_type": "code",
   "execution_count": 25,
   "metadata": {},
   "outputs": [
    {
     "data": {
      "text/plain": [
       "{1, 2, 3, 7, 11, 13, 17}"
      ]
     },
     "execution_count": 25,
     "metadata": {},
     "output_type": "execute_result"
    }
   ],
   "source": [
    "# connaitre le nombre d'éléments dans une liste\n",
    "len(liste_de_nombres)\n",
    "\n",
    "# connaitre la somme d'une liste numérique\n",
    "sum(liste_de_nombres)\n",
    "\n",
    "# connaitre le maximum ou le minimum d'une liste numérique\n",
    "max(liste_de_nombres)\n",
    "min(liste_de_nombres)\n",
    "\n",
    "# connaitre tous les élements uniques\n",
    "set(liste_de_nombres)\n"
   ]
  },
  {
   "cell_type": "code",
   "execution_count": 28,
   "metadata": {},
   "outputs": [
    {
     "data": {
      "text/plain": [
       "[1, 2, 3, 7, 11, 13, 17]"
      ]
     },
     "execution_count": 28,
     "metadata": {},
     "output_type": "execute_result"
    }
   ],
   "source": [
    "list(set(liste_de_nombres))"
   ]
  },
  {
   "cell_type": "markdown",
   "metadata": {},
   "source": [
    "## Méthodes associées à la classe liste"
   ]
  },
  {
   "cell_type": "code",
   "execution_count": 30,
   "metadata": {},
   "outputs": [
    {
     "data": {
      "text/plain": [
       "[-1, 1, 2, 3, 7, 11, 13, 17, 17, 89, 89]"
      ]
     },
     "execution_count": 30,
     "metadata": {},
     "output_type": "execute_result"
    }
   ],
   "source": [
    "# ajouter un élément à la fin une liste\n",
    "liste_de_nombres.append(89)\n",
    "liste_de_nombres\n",
    "\n",
    "# Ajoute un élément à une liste à une certaine position (ici au début: 0)\n",
    "liste_de_nombres.insert(0, -1) # d'abord l'indice puis ce qu'on ajoute\n",
    "liste_de_nombres\n",
    "\n",
    "# concatène deux listes (ajoute une liste à une autre)\n",
    "liste_de_nombres.extend(liste2) #ou ma_nouvelle_liste= liste_de_nombre + liste2\n",
    "\n",
    "# supprimer un élément d'une liste\n",
    "liste_de_strings.remove(\"abc\") # pour supprimer un élement par sa valeur \n",
    "\n",
    "# supprime le dernier élément d'une liste\n",
    "liste_de_strings.pop()\n",
    "liste_de_strings.pop(0) # pour supprimer un élément par son indice\n",
    "\n",
    "# ordonner les éléments d'une liste du plus petit au plus grand\n",
    "liste_de_nombres.sort()\n",
    "\n",
    "# ordonner les éléments d'une liste du plus grand au plus petit\n",
    "liste_de_nombres.sort(reverse=True) # reverse True pour inverser, donc du + grand au + petit\n",
    "\n",
    "# retrouve l’indice de la première occurrence d’un élément à chercher dans notre liste ;\n",
    "liste_de_nombres.index(5)\n",
    "\n",
    "# savoir si une liste est une sous liste d'une autre\n",
    "set(liste2).issubset(liste_de_nombres)"
   ]
  },
  {
   "cell_type": "code",
   "execution_count": 45,
   "metadata": {},
   "outputs": [
    {
     "data": {
      "text/plain": [
       "False"
      ]
     },
     "execution_count": 45,
     "metadata": {},
     "output_type": "execute_result"
    }
   ],
   "source": [
    "liste_nombres = [1, 6, 98, 6, 1, 1045, 1]\n",
    "set([1,6,98,1045,2]).issubset(liste_nombres)\n"
   ]
  },
  {
   "cell_type": "markdown",
   "metadata": {},
   "source": [
    "Pour les autres méthodes voir la : https://docs.python.org/fr/3/tutorial/datastructures.html"
   ]
  },
  {
   "cell_type": "markdown",
   "metadata": {},
   "source": [
    "## Méthodes de string utiles pour les listes"
   ]
  },
  {
   "cell_type": "code",
   "execution_count": 2,
   "metadata": {},
   "outputs": [
    {
     "name": "stdout",
     "output_type": "stream",
     "text": [
      "[\"Qu'elle\", 'belle', 'journée']\n",
      "Qu'elle-belle-journée\n"
     ]
    }
   ],
   "source": [
    "my_string = \"Qu'elle belle journée\"\n",
    "\n",
    "# Diviser une chaine de caractères pour créer une liste\n",
    "splited_string = my_string.split(\" \")\n",
    "print(splited_string)\n",
    "\n",
    "# Créer une chaine de caractères à partir d'une liste\n",
    "new_sting = \"-\".join(splited_string)\n",
    "print(new_sting)"
   ]
  },
  {
   "cell_type": "markdown",
   "metadata": {},
   "source": [
    "**`Exercice`**: "
   ]
  },
  {
   "cell_type": "code",
   "execution_count": 9,
   "metadata": {},
   "outputs": [
    {
     "name": "stdout",
     "output_type": "stream",
     "text": [
      "[1, 3, 6, 52, 98, 1045]\n",
      "[3, 6, 52, 98, 1045]\n",
      "[3, 6, 52, 98, 1045, 1097]\n",
      "6\n"
     ]
    },
    {
     "data": {
      "text/plain": [
       "6"
      ]
     },
     "execution_count": 9,
     "metadata": {},
     "output_type": "execute_result"
    }
   ],
   "source": [
    "liste_nombres = [1, 6, 98, 52, 1045, 3]\n",
    "\n",
    "# 1) classez la liste en ordre croissant\n",
    "\n",
    "liste_nombres.sort()\n",
    "print(liste_nombres)\n",
    "\n",
    "# 2) supprimez le premier élément de la liste\n",
    "\n",
    "liste_nombres.pop(0)\n",
    "print(liste_nombres)\n",
    "\n",
    "\n",
    "# 3) ajoutez le nombre \"1097\" à la fin de la liste\n",
    "\n",
    "liste_nombres.append(1097)\n",
    "print(liste_nombres)\n",
    "\n",
    "# 4) récupérez le deuxième élément dans une variable \"deuxieme_element\"\n",
    "deuxieme_element = liste_nombres[1]\n",
    "print(deuxieme_element) # la console devrait afficher \"6\" !\n",
    "\n",
    "# 5) affichez la longueur de la liste\n",
    "len(liste_nombres)\n"
   ]
  },
  {
   "cell_type": "markdown",
   "metadata": {},
   "source": [
    "# Les dictionnaires"
   ]
  },
  {
   "cell_type": "markdown",
   "metadata": {},
   "source": [
    "## Définition et création"
   ]
  },
  {
   "cell_type": "markdown",
   "metadata": {},
   "source": [
    "Un dictionnaire est un objet permettant de stocker des informations à l'aide d'un système clé/valeur.\n",
    "A chaque clé correspond une valeur, les clés n'ont pas d'odre entre elles."
   ]
  },
  {
   "cell_type": "markdown",
   "metadata": {},
   "source": [
    "Créer un dictionnaire vide"
   ]
  },
  {
   "cell_type": "code",
   "execution_count": 53,
   "metadata": {},
   "outputs": [
    {
     "name": "stdout",
     "output_type": "stream",
     "text": [
      "{}\n"
     ]
    }
   ],
   "source": [
    "new_dict={}\n",
    "new_dict = dict()\n",
    "print(new_dict)"
   ]
  },
  {
   "cell_type": "markdown",
   "metadata": {},
   "source": [
    "Créer un dictionnaire contenant des données"
   ]
  },
  {
   "cell_type": "code",
   "execution_count": 11,
   "metadata": {},
   "outputs": [
    {
     "name": "stdout",
     "output_type": "stream",
     "text": [
      "{'lesstrings': 'exemple', 'lesintegers': 9, 'leslistes': [7, 8, 9], 'les booleen': True}\n"
     ]
    }
   ],
   "source": [
    "trucs_appris_en_python = { \n",
    "    \"lesstrings\": \"exemple\", \n",
    "    \"lesintegers\": 9, \n",
    "    \"leslistes\": [7,8,9], \n",
    "    \"les booleen\": True,\n",
    "}\n",
    "\n",
    "# unicité de la clé, mais possible d'avoir plusieurs fois la même valeur pour d'autres clés\n",
    "print(trucs_appris_en_python)"
   ]
  },
  {
   "cell_type": "markdown",
   "metadata": {},
   "source": [
    "Restriction:\n",
    "- Les clés peuvent être des int, des float, des str (tout object immutable (voir plus loin)) mais une clé ne peut être utilisée qu'une seule fois \n",
    "- les valeurs peuvent être ne n'importe quel type"
   ]
  },
  {
   "cell_type": "markdown",
   "metadata": {},
   "source": [
    "## Accéder aux valeurs"
   ]
  },
  {
   "cell_type": "code",
   "execution_count": 58,
   "metadata": {},
   "outputs": [
    {
     "data": {
      "text/plain": [
       "'exemple'"
      ]
     },
     "execution_count": 58,
     "metadata": {},
     "output_type": "execute_result"
    }
   ],
   "source": [
    "# Accéder à une valeur à partir de sa clé\n",
    "# trucs_appris_en_python[\"lesstrings\"]\n",
    "trucs_appris_en_python[\"lesstrings\"]"
   ]
  },
  {
   "cell_type": "code",
   "execution_count": 59,
   "metadata": {},
   "outputs": [
    {
     "data": {
      "text/plain": [
       "{'lesstrings': 'exemple',\n",
       " 'lesintegers': 9,\n",
       " 'leslistes': [7, 8, 9],\n",
       " 'les booleen': True,\n",
       " 8: 'autre exemple',\n",
       " 'lesfloats': 3.8}"
      ]
     },
     "execution_count": 59,
     "metadata": {},
     "output_type": "execute_result"
    }
   ],
   "source": [
    "# On peut à tout moment ajouter une nouvelle clé à un dictionnaire en lui attribuant une valeur\n",
    "trucs_appris_en_python['lesfloats'] = 3.8\n",
    "trucs_appris_en_python"
   ]
  },
  {
   "cell_type": "code",
   "execution_count": 60,
   "metadata": {},
   "outputs": [
    {
     "data": {
      "text/plain": [
       "{'lesstrings': 'exemple',\n",
       " 'lesintegers': 9,\n",
       " 'leslistes': [7, 8, 9],\n",
       " 'les booleen': True,\n",
       " 8: 'autre exemple',\n",
       " 'lesfloats': 3.9}"
      ]
     },
     "execution_count": 60,
     "metadata": {},
     "output_type": "execute_result"
    }
   ],
   "source": [
    "# On modifie la valeur comme on modifierait une variable\n",
    "trucs_appris_en_python['lesfloats'] = 3.9\n",
    "trucs_appris_en_python"
   ]
  },
  {
   "cell_type": "code",
   "execution_count": 61,
   "metadata": {},
   "outputs": [
    {
     "name": "stdout",
     "output_type": "stream",
     "text": [
      "{'lesstrings': 'exemple', 'lesintegers': 9, 'leslistes': [7, 8, 9], 'les booleen': True, 8: 'autre exemple'}\n"
     ]
    },
    {
     "data": {
      "text/plain": [
       "{'lesintegers': 9,\n",
       " 'leslistes': [7, 8, 9],\n",
       " 'les booleen': True,\n",
       " 8: 'autre exemple'}"
      ]
     },
     "execution_count": 61,
     "metadata": {},
     "output_type": "execute_result"
    }
   ],
   "source": [
    "# supprimer un couple clef/valeur\n",
    "del trucs_appris_en_python['lesfloats']\n",
    "print(trucs_appris_en_python)\n",
    "\n",
    "# une autre manière de supprimer un couple cle/valeur:\n",
    "trucs_appris_en_python.pop('lesstrings') \n",
    "trucs_appris_en_python"
   ]
  },
  {
   "cell_type": "markdown",
   "metadata": {},
   "source": [
    "## Parcourir un dictionnaire"
   ]
  },
  {
   "cell_type": "code",
   "execution_count": null,
   "metadata": {},
   "outputs": [
    {
     "name": "stdout",
     "output_type": "stream",
     "text": [
      "True\n",
      "True\n"
     ]
    }
   ],
   "source": [
    "# vérifier l'existence d'une clef:\n",
    "print(\"leslistes\" in trucs_appris_en_python)"
   ]
  },
  {
   "cell_type": "code",
   "execution_count": 12,
   "metadata": {},
   "outputs": [
    {
     "data": {
      "text/plain": [
       "dict_values(['exemple', 9, [7, 8, 9], True])"
      ]
     },
     "execution_count": 12,
     "metadata": {},
     "output_type": "execute_result"
    }
   ],
   "source": [
    "\n",
    "trucs_appris_en_python.values() #afficher toutes les valeurs"
   ]
  },
  {
   "cell_type": "code",
   "execution_count": 13,
   "metadata": {},
   "outputs": [
    {
     "data": {
      "text/plain": [
       "dict_keys(['lesstrings', 'lesintegers', 'leslistes', 'les booleen'])"
      ]
     },
     "execution_count": 13,
     "metadata": {},
     "output_type": "execute_result"
    }
   ],
   "source": [
    "trucs_appris_en_python.keys() #afficher toutes les clés"
   ]
  },
  {
   "cell_type": "code",
   "execution_count": null,
   "metadata": {},
   "outputs": [],
   "source": [
    "# Utilisation de values()\n",
    "print( 9 in trucs_appris_en_python.values() )"
   ]
  },
  {
   "cell_type": "code",
   "execution_count": 4,
   "metadata": {},
   "outputs": [
    {
     "name": "stdout",
     "output_type": "stream",
     "text": [
      "True\n"
     ]
    }
   ],
   "source": [
    "# Utilisation de items()\n",
    "print( (\"lesintegers\",9) in trucs_appris_en_python.items() )"
   ]
  },
  {
   "cell_type": "markdown",
   "metadata": {},
   "source": [
    "Un tuple n'est pas modifiable, c'est sa différence avec la liste."
   ]
  },
  {
   "cell_type": "code",
   "execution_count": 16,
   "metadata": {},
   "outputs": [
    {
     "data": {
      "text/plain": [
       "[1, 2, 3]"
      ]
     },
     "execution_count": 16,
     "metadata": {},
     "output_type": "execute_result"
    }
   ],
   "source": [
    "un_tuple = (1, 2, 3)\n",
    "un_tuple\n",
    "# pour transformer tuple en liste\n",
    "un_tuple = list(un_tuple)\n",
    "un_tuple"
   ]
  },
  {
   "cell_type": "code",
   "execution_count": null,
   "metadata": {},
   "outputs": [],
   "source": [
    "# Les objets créés ne sont pas des listes mais des itérables.\n",
    "# cela veut dire qu'on peut les parcourir avec une boucle for mais pas rechercher un indice. ON peut cependant facilement obtenir une liste:\n",
    "list(trucs_appris_en_python.keys())"
   ]
  },
  {
   "cell_type": "markdown",
   "metadata": {},
   "source": [
    "# La Mutabilité"
   ]
  },
  {
   "cell_type": "markdown",
   "metadata": {},
   "source": [
    "## Définition"
   ]
  },
  {
   "cell_type": "markdown",
   "metadata": {},
   "source": [
    "Observons quelque chose:"
   ]
  },
  {
   "cell_type": "code",
   "execution_count": 75,
   "metadata": {},
   "outputs": [
    {
     "name": "stdout",
     "output_type": "stream",
     "text": [
      "CHARLES\n"
     ]
    }
   ],
   "source": [
    "a = \"Charles\"\n",
    "\n",
    "a_bis = a.upper()\n",
    "\n",
    "print(a_bis)"
   ]
  },
  {
   "cell_type": "code",
   "execution_count": 82,
   "metadata": {},
   "outputs": [
    {
     "name": "stdout",
     "output_type": "stream",
     "text": [
      "5\n"
     ]
    },
    {
     "data": {
      "text/plain": [
       "[1, 2, 4, 6]"
      ]
     },
     "execution_count": 82,
     "metadata": {},
     "output_type": "execute_result"
    }
   ],
   "source": [
    "b = [1,2,4,5,6]\n",
    "\n",
    "b_bis = b.pop(3)\n",
    "\n",
    "print(b_bis)\n",
    "\n",
    "b"
   ]
  },
  {
   "cell_type": "markdown",
   "metadata": {},
   "source": [
    "Quand on définit une variable en python on définit toujours un nom qui pointe vers une valeur enregistrée en mémoire. En fonction du type d'objet la valeur inscrite en mémoire peut être modifiée ou non. On appelle cela la mutabilité\n",
    "- Les Objets immutables sont ceux dont la valeur en mémoire ne peut changer: Entiers, flottants, complexes, tuples, chaînes de caractères, …\n",
    "- LEs Objets mutables sont ceux dont la valeur en mémoire change: Listes, dictionnaires, …"
   ]
  },
  {
   "cell_type": "markdown",
   "metadata": {},
   "source": [
    "## Récupérer le résultat des opétations "
   ]
  },
  {
   "cell_type": "markdown",
   "metadata": {},
   "source": [
    "Quand on modifie un object immutable, ce que l'on fait en réalité c'est de déclarer une nouvelle valeur en mémoire. Cette nouvelle valeur si on veut s'en servir il faut lui donner un nouveau nom et donc l'assigner à une variable\n",
    "\n",
    "Pour les object mutable, quand on les modifie, c'est directement l'objet en mémoire qui est modifié, pas besoin donc d'assigner un nouveau nom de variable pour ce résultat. Si on le fait, python n'enregistrera pas la nouvelle valeur prise mais un objet nul ou parfois le résultat de l'opération. C'est donc le meilleur moyen de perdre ses données:"
   ]
  },
  {
   "cell_type": "code",
   "execution_count": 23,
   "metadata": {},
   "outputs": [
    {
     "name": "stdout",
     "output_type": "stream",
     "text": [
      "CHARLES\n",
      "CHARLES\n"
     ]
    }
   ],
   "source": [
    "a = \"Charles\"\n",
    "\n",
    "a_bis = a.upper()\n",
    "\n",
    "print(a_bis)\n",
    "\n",
    "a = a.upper()\n",
    "\n",
    "print(a)"
   ]
  },
  {
   "cell_type": "code",
   "execution_count": null,
   "metadata": {},
   "outputs": [],
   "source": [
    "b = [1,2]\n",
    "\n",
    "b_bis = b.append(3)\n",
    "\n",
    "print(b_bis)\n",
    "\n",
    "b = b.append(3)\n",
    "\n",
    "print(b)"
   ]
  },
  {
   "cell_type": "markdown",
   "metadata": {},
   "source": [
    "## Créer des alias et des copies"
   ]
  },
  {
   "cell_type": "markdown",
   "metadata": {},
   "source": [
    "On peut faire en sorte qu'une variable soit égale à la valeur d'une autre variable"
   ]
  },
  {
   "cell_type": "code",
   "execution_count": 15,
   "metadata": {},
   "outputs": [],
   "source": [
    "a = \"Charles\"\n",
    "b = [1,2]\n",
    "\n",
    "a_alias = a\n",
    "b_alias = b"
   ]
  },
  {
   "cell_type": "markdown",
   "metadata": {},
   "source": [
    "Dans ce cas là, on crée en réalité un alias, on crée un nouveau nom qui point vers la même valeur en mémoire."
   ]
  },
  {
   "cell_type": "markdown",
   "metadata": {},
   "source": [
    "On a vue que pour les immutables, la valeur en mémoire ne changeait pas, si on fait donc pointer l'un des deux alias vers une nouvelle valeur, l'autre pointera toujours vers l'ancienne valeur inchangée"
   ]
  },
  {
   "cell_type": "code",
   "execution_count": 16,
   "metadata": {},
   "outputs": [
    {
     "name": "stdout",
     "output_type": "stream",
     "text": [
      "CHARLES\n",
      "Charles\n"
     ]
    }
   ],
   "source": [
    "a = a.upper()\n",
    "print(a)\n",
    "print(a_alias)"
   ]
  },
  {
   "cell_type": "markdown",
   "metadata": {},
   "source": [
    "Pour les objets mutables, c'est la valeur en mémoire qui change. Si donc on la modifie en utilisant un des deux alias, l'autre alias pointera égaement vers la valeur modifiée"
   ]
  },
  {
   "cell_type": "code",
   "execution_count": 17,
   "metadata": {},
   "outputs": [
    {
     "name": "stdout",
     "output_type": "stream",
     "text": [
      "[1, 2, 3]\n",
      "[1, 2, 3]\n"
     ]
    }
   ],
   "source": [
    "b.append(3)\n",
    "print(b)\n",
    "print(b_alias)"
   ]
  },
  {
   "cell_type": "markdown",
   "metadata": {},
   "source": [
    "Si on veut conserver l'état initial d'un objet mutable, il ne faut pas créer un alias mais une copie"
   ]
  },
  {
   "cell_type": "code",
   "execution_count": 18,
   "metadata": {},
   "outputs": [
    {
     "name": "stdout",
     "output_type": "stream",
     "text": [
      "[1, 2, 3, 4]\n",
      "[1, 2, 3]\n"
     ]
    }
   ],
   "source": [
    "b_copie = b.copy()\n",
    "\n",
    "\n",
    "b.append(4)\n",
    "\n",
    "print(b)\n",
    "print(b_copie)"
   ]
  },
  {
   "cell_type": "markdown",
   "metadata": {},
   "source": [
    "**`Exercice`**: \n",
    "\n",
    "- Déclarer une variable de type float égale à -3.9874. \n",
    "    - Conserver une copie de cette état initial\n",
    "    - Calculer la valeur absolue de cette variable. \n",
    "    - Puis ajouter cette valeur absolue à la valeur initiale de la variable \n",
    "    - (Toutes ces étapes sont à faire séparement et non sur une seule ligne)\n",
    "- Créer un dictionnaire avec une clé \"nombre\" qui a pour valeur l'int 90\n",
    "    - Conserver une copie de cette état initial\n",
    "    - Modifier la cle pour lui donner comme valeur 150\n",
    "    - additionner les valeurs de cette clé pour l'état initial et l'état modifié\n",
    "\n"
   ]
  },
  {
   "cell_type": "code",
   "execution_count": 28,
   "metadata": {},
   "outputs": [
    {
     "name": "stdout",
     "output_type": "stream",
     "text": [
      "-3.9874\n",
      "3.9874\n"
     ]
    }
   ],
   "source": [
    "variable = -3.9874\n",
    "variable_copie = variable\n",
    "variable = abs(variable)\n",
    "print(variable_copie)\n",
    "print (variable)\n",
    "\n",
    "\n",
    "\n"
   ]
  },
  {
   "cell_type": "code",
   "execution_count": 32,
   "metadata": {},
   "outputs": [
    {
     "data": {
      "text/plain": [
       "240"
      ]
     },
     "execution_count": 32,
     "metadata": {},
     "output_type": "execute_result"
    }
   ],
   "source": [
    "mon_dictionnaire = {\n",
    "    \"nombre\": 90\n",
    "}\n",
    "mon_dictionnaire_copie = mon_dictionnaire.copy()\n",
    "mon_dictionnaire[\"nombre\"] = 150\n",
    "\n",
    "mon_dictionnaire[\"nombre\"] + mon_dictionnaire_copie[\"nombre\"]\n",
    "\n",
    "\n"
   ]
  }
 ],
 "metadata": {
  "interpreter": {
   "hash": "4822798685b95d90cac6b9eac85a216cd3011e561666c6311e8088bbadca8e0f"
  },
  "kernelspec": {
   "display_name": "Python 3.8.6 64-bit ('3.8.6': pyenv)",
   "name": "python3"
  },
  "language_info": {
   "codemirror_mode": {
    "name": "ipython",
    "version": 3
   },
   "file_extension": ".py",
   "mimetype": "text/x-python",
   "name": "python",
   "nbconvert_exporter": "python",
   "pygments_lexer": "ipython3",
   "version": "3.12.1"
  },
  "orig_nbformat": 4
 },
 "nbformat": 4,
 "nbformat_minor": 2
}
